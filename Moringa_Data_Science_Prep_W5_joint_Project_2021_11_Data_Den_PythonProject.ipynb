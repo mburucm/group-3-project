{
  "nbformat": 4,
  "nbformat_minor": 0,
  "metadata": {
    "colab": {
      "name": "Moringa_Data_Science_Prep_W5_joint_Project_2021_11_Data_Den_PythonProject.ipynb",
      "provenance": [],
      "collapsed_sections": [],
      "include_colab_link": true
    },
    "kernelspec": {
      "name": "python3",
      "display_name": "Python 3"
    },
    "language_info": {
      "name": "python"
    }
  },
  "cells": [
    {
      "cell_type": "markdown",
      "metadata": {
        "id": "view-in-github",
        "colab_type": "text"
      },
      "source": [
        "<a href=\"https://colab.research.google.com/github/mburucm/group-3-project/blob/main/Moringa_Data_Science_Prep_W5_joint_Project_2021_11_Data_Den_PythonProject.ipynb\" target=\"_parent\"><img src=\"https://colab.research.google.com/assets/colab-badge.svg\" alt=\"Open In Colab\"/></a>"
      ]
    },
    {
      "cell_type": "markdown",
      "metadata": {
        "id": "N8Q9g2-xk-rD"
      },
      "source": [
        "## **INTRODUCTION**\n",
        "\n",
        "The following dataset contains a list of Kenyan retail Supermarkets containing information on items, location, day, type of payments among other variables. Historically, supermarkets have their business models radically re-shaped by cashless payment instore, online (advertisement, payments, locations) and in the food industry supply chain.\n",
        "\n",
        "The lack of or derailment in implementation of crucial strategies have led to the closure of major supermarkets across Kenya. These technologies will be deployed in the battle for customers but, more than this, can also benefit the business as a whole. "
      ]
    },
    {
      "cell_type": "markdown",
      "metadata": {
        "id": "n9ZuipOOBIYl"
      },
      "source": [
        "## **DATA UNDERSTANDING**"
      ]
    },
    {
      "cell_type": "code",
      "metadata": {
        "id": "-_Lu6P-n6wN2"
      },
      "source": [
        "# Importing the libraries we will need \n",
        "\n",
        "# Importing the pandas library\n",
        "# \n",
        "import pandas as pd\n",
        "\n",
        "# Importing the numpy library\n",
        "#\n",
        "import numpy as np"
      ],
      "execution_count": null,
      "outputs": []
    },
    {
      "cell_type": "code",
      "metadata": {
        "colab": {
          "base_uri": "https://localhost:8080/",
          "height": 243
        },
        "id": "slsMwav2mAv8",
        "outputId": "c94fa194-0904-499b-a2f5-1aef34709a8c"
      },
      "source": [
        "#to read the data in the csv file to create a dataframe\n",
        "#the dataframe will be referred to as 'df'\n",
        "df= pd.read_csv('/content/Supermarket Data.csv')\n",
        "df\n",
        "#to display the top 5 records of the dataframe\n",
        "df.head(5)"
      ],
      "execution_count": null,
      "outputs": [
        {
          "output_type": "execute_result",
          "data": {
            "text/html": [
              "<div>\n",
              "<style scoped>\n",
              "    .dataframe tbody tr th:only-of-type {\n",
              "        vertical-align: middle;\n",
              "    }\n",
              "\n",
              "    .dataframe tbody tr th {\n",
              "        vertical-align: top;\n",
              "    }\n",
              "\n",
              "    .dataframe thead th {\n",
              "        text-align: right;\n",
              "    }\n",
              "</style>\n",
              "<table border=\"1\" class=\"dataframe\">\n",
              "  <thead>\n",
              "    <tr style=\"text-align: right;\">\n",
              "      <th></th>\n",
              "      <th>supermarket</th>\n",
              "      <th>no_of_items</th>\n",
              "      <th>variation</th>\n",
              "      <th>total</th>\n",
              "      <th>paid</th>\n",
              "      <th>change</th>\n",
              "      <th>type</th>\n",
              "      <th>food</th>\n",
              "      <th>snack</th>\n",
              "      <th>beverage</th>\n",
              "      <th>consumables</th>\n",
              "      <th>high_end</th>\n",
              "      <th>asset</th>\n",
              "      <th>fixed_asset</th>\n",
              "      <th>date</th>\n",
              "      <th>mall</th>\n",
              "      <th>time</th>\n",
              "      <th>time_type</th>\n",
              "      <th>type_market</th>\n",
              "      <th>location</th>\n",
              "      <th>loc_category</th>\n",
              "      <th>day</th>\n",
              "      <th>day_type</th>\n",
              "      <th>24hr</th>\n",
              "      <th>day.1</th>\n",
              "      <th>month</th>\n",
              "      <th>year</th>\n",
              "      <th>Unnamed: 27</th>\n",
              "    </tr>\n",
              "  </thead>\n",
              "  <tbody>\n",
              "    <tr>\n",
              "      <th>0</th>\n",
              "      <td>acacia</td>\n",
              "      <td>1.0</td>\n",
              "      <td>1.0</td>\n",
              "      <td>90.0</td>\n",
              "      <td>100.0</td>\n",
              "      <td>10.0</td>\n",
              "      <td>cash</td>\n",
              "      <td>yes</td>\n",
              "      <td>no</td>\n",
              "      <td>no</td>\n",
              "      <td>no</td>\n",
              "      <td>no</td>\n",
              "      <td>no</td>\n",
              "      <td>no</td>\n",
              "      <td>20/05/2017</td>\n",
              "      <td>no</td>\n",
              "      <td>19:33</td>\n",
              "      <td>night</td>\n",
              "      <td>small</td>\n",
              "      <td>saika</td>\n",
              "      <td>mid</td>\n",
              "      <td>saturday</td>\n",
              "      <td>weekend</td>\n",
              "      <td>no</td>\n",
              "      <td>20</td>\n",
              "      <td>5.0</td>\n",
              "      <td>2017.0</td>\n",
              "      <td>NaN</td>\n",
              "    </tr>\n",
              "    <tr>\n",
              "      <th>1</th>\n",
              "      <td>acacia</td>\n",
              "      <td>1.0</td>\n",
              "      <td>1.0</td>\n",
              "      <td>90.0</td>\n",
              "      <td>500.0</td>\n",
              "      <td>410.0</td>\n",
              "      <td>cash</td>\n",
              "      <td>yes</td>\n",
              "      <td>no</td>\n",
              "      <td>no</td>\n",
              "      <td>no</td>\n",
              "      <td>no</td>\n",
              "      <td>no</td>\n",
              "      <td>no</td>\n",
              "      <td>20/05/2017</td>\n",
              "      <td>no</td>\n",
              "      <td>19:12</td>\n",
              "      <td>night</td>\n",
              "      <td>small</td>\n",
              "      <td>saika</td>\n",
              "      <td>mid</td>\n",
              "      <td>saturday</td>\n",
              "      <td>weekend</td>\n",
              "      <td>no</td>\n",
              "      <td>20</td>\n",
              "      <td>5.0</td>\n",
              "      <td>2017.0</td>\n",
              "      <td>NaN</td>\n",
              "    </tr>\n",
              "    <tr>\n",
              "      <th>2</th>\n",
              "      <td>acacia</td>\n",
              "      <td>3.0</td>\n",
              "      <td>1.0</td>\n",
              "      <td>270.0</td>\n",
              "      <td>300.0</td>\n",
              "      <td>30.0</td>\n",
              "      <td>cash</td>\n",
              "      <td>yes</td>\n",
              "      <td>no</td>\n",
              "      <td>no</td>\n",
              "      <td>no</td>\n",
              "      <td>no</td>\n",
              "      <td>no</td>\n",
              "      <td>no</td>\n",
              "      <td>20/05/2017</td>\n",
              "      <td>no</td>\n",
              "      <td>19:16</td>\n",
              "      <td>night</td>\n",
              "      <td>small</td>\n",
              "      <td>saika</td>\n",
              "      <td>mid</td>\n",
              "      <td>saturday</td>\n",
              "      <td>weekend</td>\n",
              "      <td>no</td>\n",
              "      <td>20</td>\n",
              "      <td>5.0</td>\n",
              "      <td>2017.0</td>\n",
              "      <td>NaN</td>\n",
              "    </tr>\n",
              "    <tr>\n",
              "      <th>3</th>\n",
              "      <td>acacia</td>\n",
              "      <td>3.0</td>\n",
              "      <td>1.0</td>\n",
              "      <td>137.0</td>\n",
              "      <td>200.0</td>\n",
              "      <td>63.0</td>\n",
              "      <td>cash</td>\n",
              "      <td>yes</td>\n",
              "      <td>no</td>\n",
              "      <td>no</td>\n",
              "      <td>no</td>\n",
              "      <td>no</td>\n",
              "      <td>no</td>\n",
              "      <td>no</td>\n",
              "      <td>20/05/2017</td>\n",
              "      <td>no</td>\n",
              "      <td>19:12</td>\n",
              "      <td>night</td>\n",
              "      <td>small</td>\n",
              "      <td>saika</td>\n",
              "      <td>mid</td>\n",
              "      <td>saturday</td>\n",
              "      <td>weekend</td>\n",
              "      <td>no</td>\n",
              "      <td>20</td>\n",
              "      <td>5.0</td>\n",
              "      <td>2017.0</td>\n",
              "      <td>NaN</td>\n",
              "    </tr>\n",
              "    <tr>\n",
              "      <th>4</th>\n",
              "      <td>acacia</td>\n",
              "      <td>1.0</td>\n",
              "      <td>1.0</td>\n",
              "      <td>75.0</td>\n",
              "      <td>80.0</td>\n",
              "      <td>5.0</td>\n",
              "      <td>cash</td>\n",
              "      <td>yes</td>\n",
              "      <td>no</td>\n",
              "      <td>no</td>\n",
              "      <td>no</td>\n",
              "      <td>no</td>\n",
              "      <td>no</td>\n",
              "      <td>no</td>\n",
              "      <td>20/05/2017</td>\n",
              "      <td>no</td>\n",
              "      <td>18:31</td>\n",
              "      <td>afternoon</td>\n",
              "      <td>small</td>\n",
              "      <td>saika</td>\n",
              "      <td>mid</td>\n",
              "      <td>saturday</td>\n",
              "      <td>weekend</td>\n",
              "      <td>no</td>\n",
              "      <td>20</td>\n",
              "      <td>5.0</td>\n",
              "      <td>2017.0</td>\n",
              "      <td>NaN</td>\n",
              "    </tr>\n",
              "  </tbody>\n",
              "</table>\n",
              "</div>"
            ],
            "text/plain": [
              "  supermarket  no_of_items  variation  total  ...  day.1  month    year Unnamed: 27\n",
              "0      acacia          1.0        1.0   90.0  ...     20    5.0  2017.0         NaN\n",
              "1      acacia          1.0        1.0   90.0  ...     20    5.0  2017.0         NaN\n",
              "2      acacia          3.0        1.0  270.0  ...     20    5.0  2017.0         NaN\n",
              "3      acacia          3.0        1.0  137.0  ...     20    5.0  2017.0         NaN\n",
              "4      acacia          1.0        1.0   75.0  ...     20    5.0  2017.0         NaN\n",
              "\n",
              "[5 rows x 28 columns]"
            ]
          },
          "metadata": {},
          "execution_count": 120
        }
      ]
    },
    {
      "cell_type": "code",
      "metadata": {
        "colab": {
          "base_uri": "https://localhost:8080/"
        },
        "id": "TsL2JG8x7vBe",
        "outputId": "d42f9434-94ed-4fa4-8442-95f1acbb9cc3"
      },
      "source": [
        "#getting information on the dataframe\n",
        "df.info()"
      ],
      "execution_count": null,
      "outputs": [
        {
          "output_type": "stream",
          "name": "stdout",
          "text": [
            "<class 'pandas.core.frame.DataFrame'>\n",
            "RangeIndex: 2299 entries, 0 to 2298\n",
            "Data columns (total 28 columns):\n",
            " #   Column        Non-Null Count  Dtype  \n",
            "---  ------        --------------  -----  \n",
            " 0   supermarket   1463 non-null   object \n",
            " 1   no_of_items   1464 non-null   float64\n",
            " 2   variation     1464 non-null   float64\n",
            " 3   total         1464 non-null   float64\n",
            " 4   paid          1464 non-null   float64\n",
            " 5   change        1464 non-null   float64\n",
            " 6   type          1464 non-null   object \n",
            " 7   food          1464 non-null   object \n",
            " 8   snack         1464 non-null   object \n",
            " 9   beverage      1464 non-null   object \n",
            " 10  consumables   1464 non-null   object \n",
            " 11  high_end      1464 non-null   object \n",
            " 12  asset         1464 non-null   object \n",
            " 13  fixed_asset   1464 non-null   object \n",
            " 14  date          1464 non-null   object \n",
            " 15  mall          1464 non-null   object \n",
            " 16  time          1464 non-null   object \n",
            " 17  time_type     1464 non-null   object \n",
            " 18  type_market   1464 non-null   object \n",
            " 19  location      1464 non-null   object \n",
            " 20  loc_category  1464 non-null   object \n",
            " 21  day           1464 non-null   object \n",
            " 22  day_type      1464 non-null   object \n",
            " 23  24hr          1464 non-null   object \n",
            " 24  day.1         1464 non-null   object \n",
            " 25  month         1464 non-null   float64\n",
            " 26  year          1462 non-null   float64\n",
            " 27  Unnamed: 27   0 non-null      float64\n",
            "dtypes: float64(8), object(20)\n",
            "memory usage: 503.0+ KB\n"
          ]
        }
      ]
    },
    {
      "cell_type": "code",
      "metadata": {
        "colab": {
          "base_uri": "https://localhost:8080/"
        },
        "id": "3H-uhxSt77Z7",
        "outputId": "596c11b4-e9f4-4dbb-f579-8106a956bdae"
      },
      "source": [
        "#to get the number of rows and columns respectively\n",
        "df.shape"
      ],
      "execution_count": null,
      "outputs": [
        {
          "output_type": "execute_result",
          "data": {
            "text/plain": [
              "(2299, 28)"
            ]
          },
          "metadata": {},
          "execution_count": 122
        }
      ]
    },
    {
      "cell_type": "markdown",
      "metadata": {
        "id": "kS2yH8q3BQoF"
      },
      "source": [
        "## **DATA CLEANING**\n",
        "Cleaning and transforming raw data prior to processing and analysis\n"
      ]
    },
    {
      "cell_type": "code",
      "metadata": {
        "colab": {
          "base_uri": "https://localhost:8080/"
        },
        "id": "T35r-pP7mn0q",
        "outputId": "27f3b13c-5ac1-4612-db3d-bdafcad8c666"
      },
      "source": [
        "#to check null values in the DataFrame\n",
        "df.isnull().sum().any()"
      ],
      "execution_count": null,
      "outputs": [
        {
          "output_type": "execute_result",
          "data": {
            "text/plain": [
              "True"
            ]
          },
          "metadata": {},
          "execution_count": 180
        }
      ]
    },
    {
      "cell_type": "code",
      "metadata": {
        "id": "VU6LiW4-Gg3F",
        "colab": {
          "base_uri": "https://localhost:8080/"
        },
        "outputId": "8f66812c-dbc9-4a6e-8018-269385497a2a"
      },
      "source": [
        "#show no of duplicates\n",
        "df.duplicated().sum()"
      ],
      "execution_count": null,
      "outputs": [
        {
          "output_type": "execute_result",
          "data": {
            "text/plain": [
              "857"
            ]
          },
          "metadata": {},
          "execution_count": 124
        }
      ]
    },
    {
      "cell_type": "code",
      "metadata": {
        "id": "FSvlCyfymoGZ",
        "colab": {
          "base_uri": "https://localhost:8080/"
        },
        "outputId": "bce10e4c-7c78-4a35-f67a-c4535bdb2188"
      },
      "source": [
        "#checking for duplicates\n",
        "#dropping the duplicates, keeping the first records\n",
        "df.duplicated(subset=None, keep='first')"
      ],
      "execution_count": null,
      "outputs": [
        {
          "output_type": "execute_result",
          "data": {
            "text/plain": [
              "0       False\n",
              "1       False\n",
              "2       False\n",
              "3       False\n",
              "4       False\n",
              "        ...  \n",
              "2294     True\n",
              "2295     True\n",
              "2296     True\n",
              "2297     True\n",
              "2298     True\n",
              "Length: 2299, dtype: bool"
            ]
          },
          "metadata": {},
          "execution_count": 125
        }
      ]
    },
    {
      "cell_type": "code",
      "metadata": {
        "colab": {
          "base_uri": "https://localhost:8080/",
          "height": 181
        },
        "id": "nuGWLqN8BiJB",
        "outputId": "acf9a6ff-e051-4b9b-ad0b-d46b6e8a3128"
      },
      "source": [
        "#null values were droppe sice non e of their columns had any records\n",
        "df.dropna()\n",
        "df.head(3)"
      ],
      "execution_count": null,
      "outputs": [
        {
          "output_type": "execute_result",
          "data": {
            "text/html": [
              "<div>\n",
              "<style scoped>\n",
              "    .dataframe tbody tr th:only-of-type {\n",
              "        vertical-align: middle;\n",
              "    }\n",
              "\n",
              "    .dataframe tbody tr th {\n",
              "        vertical-align: top;\n",
              "    }\n",
              "\n",
              "    .dataframe thead th {\n",
              "        text-align: right;\n",
              "    }\n",
              "</style>\n",
              "<table border=\"1\" class=\"dataframe\">\n",
              "  <thead>\n",
              "    <tr style=\"text-align: right;\">\n",
              "      <th></th>\n",
              "      <th>supermarket</th>\n",
              "      <th>no_of_items</th>\n",
              "      <th>variation</th>\n",
              "      <th>total</th>\n",
              "      <th>paid</th>\n",
              "      <th>change</th>\n",
              "      <th>type</th>\n",
              "      <th>food</th>\n",
              "      <th>snack</th>\n",
              "      <th>beverage</th>\n",
              "      <th>consumables</th>\n",
              "      <th>high_end</th>\n",
              "      <th>asset</th>\n",
              "      <th>fixed_asset</th>\n",
              "      <th>date</th>\n",
              "      <th>mall</th>\n",
              "      <th>time</th>\n",
              "      <th>time_type</th>\n",
              "      <th>type_market</th>\n",
              "      <th>location</th>\n",
              "      <th>loc_category</th>\n",
              "      <th>day</th>\n",
              "      <th>day_type</th>\n",
              "      <th>24hr</th>\n",
              "      <th>day.1</th>\n",
              "      <th>month</th>\n",
              "      <th>year</th>\n",
              "      <th>Unnamed: 27</th>\n",
              "    </tr>\n",
              "  </thead>\n",
              "  <tbody>\n",
              "    <tr>\n",
              "      <th>0</th>\n",
              "      <td>acacia</td>\n",
              "      <td>1.0</td>\n",
              "      <td>1.0</td>\n",
              "      <td>90.0</td>\n",
              "      <td>100.0</td>\n",
              "      <td>10.0</td>\n",
              "      <td>cash</td>\n",
              "      <td>yes</td>\n",
              "      <td>no</td>\n",
              "      <td>no</td>\n",
              "      <td>no</td>\n",
              "      <td>no</td>\n",
              "      <td>no</td>\n",
              "      <td>no</td>\n",
              "      <td>20/05/2017</td>\n",
              "      <td>no</td>\n",
              "      <td>19:33</td>\n",
              "      <td>night</td>\n",
              "      <td>small</td>\n",
              "      <td>saika</td>\n",
              "      <td>mid</td>\n",
              "      <td>saturday</td>\n",
              "      <td>weekend</td>\n",
              "      <td>no</td>\n",
              "      <td>20</td>\n",
              "      <td>5.0</td>\n",
              "      <td>2017.0</td>\n",
              "      <td>NaN</td>\n",
              "    </tr>\n",
              "    <tr>\n",
              "      <th>1</th>\n",
              "      <td>acacia</td>\n",
              "      <td>1.0</td>\n",
              "      <td>1.0</td>\n",
              "      <td>90.0</td>\n",
              "      <td>500.0</td>\n",
              "      <td>410.0</td>\n",
              "      <td>cash</td>\n",
              "      <td>yes</td>\n",
              "      <td>no</td>\n",
              "      <td>no</td>\n",
              "      <td>no</td>\n",
              "      <td>no</td>\n",
              "      <td>no</td>\n",
              "      <td>no</td>\n",
              "      <td>20/05/2017</td>\n",
              "      <td>no</td>\n",
              "      <td>19:12</td>\n",
              "      <td>night</td>\n",
              "      <td>small</td>\n",
              "      <td>saika</td>\n",
              "      <td>mid</td>\n",
              "      <td>saturday</td>\n",
              "      <td>weekend</td>\n",
              "      <td>no</td>\n",
              "      <td>20</td>\n",
              "      <td>5.0</td>\n",
              "      <td>2017.0</td>\n",
              "      <td>NaN</td>\n",
              "    </tr>\n",
              "    <tr>\n",
              "      <th>2</th>\n",
              "      <td>acacia</td>\n",
              "      <td>3.0</td>\n",
              "      <td>1.0</td>\n",
              "      <td>270.0</td>\n",
              "      <td>300.0</td>\n",
              "      <td>30.0</td>\n",
              "      <td>cash</td>\n",
              "      <td>yes</td>\n",
              "      <td>no</td>\n",
              "      <td>no</td>\n",
              "      <td>no</td>\n",
              "      <td>no</td>\n",
              "      <td>no</td>\n",
              "      <td>no</td>\n",
              "      <td>20/05/2017</td>\n",
              "      <td>no</td>\n",
              "      <td>19:16</td>\n",
              "      <td>night</td>\n",
              "      <td>small</td>\n",
              "      <td>saika</td>\n",
              "      <td>mid</td>\n",
              "      <td>saturday</td>\n",
              "      <td>weekend</td>\n",
              "      <td>no</td>\n",
              "      <td>20</td>\n",
              "      <td>5.0</td>\n",
              "      <td>2017.0</td>\n",
              "      <td>NaN</td>\n",
              "    </tr>\n",
              "  </tbody>\n",
              "</table>\n",
              "</div>"
            ],
            "text/plain": [
              "  supermarket  no_of_items  variation  total  ...  day.1  month    year Unnamed: 27\n",
              "0      acacia          1.0        1.0   90.0  ...     20    5.0  2017.0         NaN\n",
              "1      acacia          1.0        1.0   90.0  ...     20    5.0  2017.0         NaN\n",
              "2      acacia          3.0        1.0  270.0  ...     20    5.0  2017.0         NaN\n",
              "\n",
              "[3 rows x 28 columns]"
            ]
          },
          "metadata": {},
          "execution_count": 126
        }
      ]
    },
    {
      "cell_type": "code",
      "metadata": {
        "colab": {
          "base_uri": "https://localhost:8080/",
          "height": 243
        },
        "id": "zQYCln4LmoBw",
        "outputId": "6004127e-0bf7-4393-c1ac-b3b4c712cdf1"
      },
      "source": [
        "#to review the cleaned dataframe\n",
        "df.head()"
      ],
      "execution_count": null,
      "outputs": [
        {
          "output_type": "execute_result",
          "data": {
            "text/html": [
              "<div>\n",
              "<style scoped>\n",
              "    .dataframe tbody tr th:only-of-type {\n",
              "        vertical-align: middle;\n",
              "    }\n",
              "\n",
              "    .dataframe tbody tr th {\n",
              "        vertical-align: top;\n",
              "    }\n",
              "\n",
              "    .dataframe thead th {\n",
              "        text-align: right;\n",
              "    }\n",
              "</style>\n",
              "<table border=\"1\" class=\"dataframe\">\n",
              "  <thead>\n",
              "    <tr style=\"text-align: right;\">\n",
              "      <th></th>\n",
              "      <th>supermarket</th>\n",
              "      <th>no_of_items</th>\n",
              "      <th>variation</th>\n",
              "      <th>total</th>\n",
              "      <th>paid</th>\n",
              "      <th>change</th>\n",
              "      <th>type</th>\n",
              "      <th>food</th>\n",
              "      <th>snack</th>\n",
              "      <th>beverage</th>\n",
              "      <th>consumables</th>\n",
              "      <th>high_end</th>\n",
              "      <th>asset</th>\n",
              "      <th>fixed_asset</th>\n",
              "      <th>date</th>\n",
              "      <th>mall</th>\n",
              "      <th>time</th>\n",
              "      <th>time_type</th>\n",
              "      <th>type_market</th>\n",
              "      <th>location</th>\n",
              "      <th>loc_category</th>\n",
              "      <th>day</th>\n",
              "      <th>day_type</th>\n",
              "      <th>24hr</th>\n",
              "      <th>day.1</th>\n",
              "      <th>month</th>\n",
              "      <th>year</th>\n",
              "      <th>Unnamed: 27</th>\n",
              "    </tr>\n",
              "  </thead>\n",
              "  <tbody>\n",
              "    <tr>\n",
              "      <th>0</th>\n",
              "      <td>acacia</td>\n",
              "      <td>1.0</td>\n",
              "      <td>1.0</td>\n",
              "      <td>90.0</td>\n",
              "      <td>100.0</td>\n",
              "      <td>10.0</td>\n",
              "      <td>cash</td>\n",
              "      <td>yes</td>\n",
              "      <td>no</td>\n",
              "      <td>no</td>\n",
              "      <td>no</td>\n",
              "      <td>no</td>\n",
              "      <td>no</td>\n",
              "      <td>no</td>\n",
              "      <td>20/05/2017</td>\n",
              "      <td>no</td>\n",
              "      <td>19:33</td>\n",
              "      <td>night</td>\n",
              "      <td>small</td>\n",
              "      <td>saika</td>\n",
              "      <td>mid</td>\n",
              "      <td>saturday</td>\n",
              "      <td>weekend</td>\n",
              "      <td>no</td>\n",
              "      <td>20</td>\n",
              "      <td>5.0</td>\n",
              "      <td>2017.0</td>\n",
              "      <td>NaN</td>\n",
              "    </tr>\n",
              "    <tr>\n",
              "      <th>1</th>\n",
              "      <td>acacia</td>\n",
              "      <td>1.0</td>\n",
              "      <td>1.0</td>\n",
              "      <td>90.0</td>\n",
              "      <td>500.0</td>\n",
              "      <td>410.0</td>\n",
              "      <td>cash</td>\n",
              "      <td>yes</td>\n",
              "      <td>no</td>\n",
              "      <td>no</td>\n",
              "      <td>no</td>\n",
              "      <td>no</td>\n",
              "      <td>no</td>\n",
              "      <td>no</td>\n",
              "      <td>20/05/2017</td>\n",
              "      <td>no</td>\n",
              "      <td>19:12</td>\n",
              "      <td>night</td>\n",
              "      <td>small</td>\n",
              "      <td>saika</td>\n",
              "      <td>mid</td>\n",
              "      <td>saturday</td>\n",
              "      <td>weekend</td>\n",
              "      <td>no</td>\n",
              "      <td>20</td>\n",
              "      <td>5.0</td>\n",
              "      <td>2017.0</td>\n",
              "      <td>NaN</td>\n",
              "    </tr>\n",
              "    <tr>\n",
              "      <th>2</th>\n",
              "      <td>acacia</td>\n",
              "      <td>3.0</td>\n",
              "      <td>1.0</td>\n",
              "      <td>270.0</td>\n",
              "      <td>300.0</td>\n",
              "      <td>30.0</td>\n",
              "      <td>cash</td>\n",
              "      <td>yes</td>\n",
              "      <td>no</td>\n",
              "      <td>no</td>\n",
              "      <td>no</td>\n",
              "      <td>no</td>\n",
              "      <td>no</td>\n",
              "      <td>no</td>\n",
              "      <td>20/05/2017</td>\n",
              "      <td>no</td>\n",
              "      <td>19:16</td>\n",
              "      <td>night</td>\n",
              "      <td>small</td>\n",
              "      <td>saika</td>\n",
              "      <td>mid</td>\n",
              "      <td>saturday</td>\n",
              "      <td>weekend</td>\n",
              "      <td>no</td>\n",
              "      <td>20</td>\n",
              "      <td>5.0</td>\n",
              "      <td>2017.0</td>\n",
              "      <td>NaN</td>\n",
              "    </tr>\n",
              "    <tr>\n",
              "      <th>3</th>\n",
              "      <td>acacia</td>\n",
              "      <td>3.0</td>\n",
              "      <td>1.0</td>\n",
              "      <td>137.0</td>\n",
              "      <td>200.0</td>\n",
              "      <td>63.0</td>\n",
              "      <td>cash</td>\n",
              "      <td>yes</td>\n",
              "      <td>no</td>\n",
              "      <td>no</td>\n",
              "      <td>no</td>\n",
              "      <td>no</td>\n",
              "      <td>no</td>\n",
              "      <td>no</td>\n",
              "      <td>20/05/2017</td>\n",
              "      <td>no</td>\n",
              "      <td>19:12</td>\n",
              "      <td>night</td>\n",
              "      <td>small</td>\n",
              "      <td>saika</td>\n",
              "      <td>mid</td>\n",
              "      <td>saturday</td>\n",
              "      <td>weekend</td>\n",
              "      <td>no</td>\n",
              "      <td>20</td>\n",
              "      <td>5.0</td>\n",
              "      <td>2017.0</td>\n",
              "      <td>NaN</td>\n",
              "    </tr>\n",
              "    <tr>\n",
              "      <th>4</th>\n",
              "      <td>acacia</td>\n",
              "      <td>1.0</td>\n",
              "      <td>1.0</td>\n",
              "      <td>75.0</td>\n",
              "      <td>80.0</td>\n",
              "      <td>5.0</td>\n",
              "      <td>cash</td>\n",
              "      <td>yes</td>\n",
              "      <td>no</td>\n",
              "      <td>no</td>\n",
              "      <td>no</td>\n",
              "      <td>no</td>\n",
              "      <td>no</td>\n",
              "      <td>no</td>\n",
              "      <td>20/05/2017</td>\n",
              "      <td>no</td>\n",
              "      <td>18:31</td>\n",
              "      <td>afternoon</td>\n",
              "      <td>small</td>\n",
              "      <td>saika</td>\n",
              "      <td>mid</td>\n",
              "      <td>saturday</td>\n",
              "      <td>weekend</td>\n",
              "      <td>no</td>\n",
              "      <td>20</td>\n",
              "      <td>5.0</td>\n",
              "      <td>2017.0</td>\n",
              "      <td>NaN</td>\n",
              "    </tr>\n",
              "  </tbody>\n",
              "</table>\n",
              "</div>"
            ],
            "text/plain": [
              "  supermarket  no_of_items  variation  total  ...  day.1  month    year Unnamed: 27\n",
              "0      acacia          1.0        1.0   90.0  ...     20    5.0  2017.0         NaN\n",
              "1      acacia          1.0        1.0   90.0  ...     20    5.0  2017.0         NaN\n",
              "2      acacia          3.0        1.0  270.0  ...     20    5.0  2017.0         NaN\n",
              "3      acacia          3.0        1.0  137.0  ...     20    5.0  2017.0         NaN\n",
              "4      acacia          1.0        1.0   75.0  ...     20    5.0  2017.0         NaN\n",
              "\n",
              "[5 rows x 28 columns]"
            ]
          },
          "metadata": {},
          "execution_count": 127
        }
      ]
    },
    {
      "cell_type": "code",
      "metadata": {
        "id": "jz9-OViimoTT",
        "colab": {
          "base_uri": "https://localhost:8080/",
          "height": 574
        },
        "outputId": "ef1aca42-a3ae-4c1f-ac83-3d18613c3719"
      },
      "source": [
        "#First to change the dtype date and time column from \n",
        "df['date'] = df['date'].astype(str)\n",
        "df['time'] = df['time'].astype(str)\n",
        "\n",
        "\n",
        "#combining the  day, month and year column to form a date column\n",
        "df['Date_Time'] = df[['date', 'time']].agg(' '.join, axis=1)\n",
        "df.head(10)"
      ],
      "execution_count": null,
      "outputs": [
        {
          "output_type": "execute_result",
          "data": {
            "text/html": [
              "<div>\n",
              "<style scoped>\n",
              "    .dataframe tbody tr th:only-of-type {\n",
              "        vertical-align: middle;\n",
              "    }\n",
              "\n",
              "    .dataframe tbody tr th {\n",
              "        vertical-align: top;\n",
              "    }\n",
              "\n",
              "    .dataframe thead th {\n",
              "        text-align: right;\n",
              "    }\n",
              "</style>\n",
              "<table border=\"1\" class=\"dataframe\">\n",
              "  <thead>\n",
              "    <tr style=\"text-align: right;\">\n",
              "      <th></th>\n",
              "      <th>supermarket</th>\n",
              "      <th>no_of_items</th>\n",
              "      <th>variation</th>\n",
              "      <th>total</th>\n",
              "      <th>paid</th>\n",
              "      <th>change</th>\n",
              "      <th>type</th>\n",
              "      <th>food</th>\n",
              "      <th>snack</th>\n",
              "      <th>beverage</th>\n",
              "      <th>consumables</th>\n",
              "      <th>high_end</th>\n",
              "      <th>asset</th>\n",
              "      <th>fixed_asset</th>\n",
              "      <th>date</th>\n",
              "      <th>mall</th>\n",
              "      <th>time</th>\n",
              "      <th>time_type</th>\n",
              "      <th>type_market</th>\n",
              "      <th>location</th>\n",
              "      <th>loc_category</th>\n",
              "      <th>day</th>\n",
              "      <th>day_type</th>\n",
              "      <th>24hr</th>\n",
              "      <th>day.1</th>\n",
              "      <th>month</th>\n",
              "      <th>year</th>\n",
              "      <th>Unnamed: 27</th>\n",
              "      <th>Date_Time</th>\n",
              "    </tr>\n",
              "  </thead>\n",
              "  <tbody>\n",
              "    <tr>\n",
              "      <th>0</th>\n",
              "      <td>acacia</td>\n",
              "      <td>1.0</td>\n",
              "      <td>1.0</td>\n",
              "      <td>90.0</td>\n",
              "      <td>100.0</td>\n",
              "      <td>10.0</td>\n",
              "      <td>cash</td>\n",
              "      <td>yes</td>\n",
              "      <td>no</td>\n",
              "      <td>no</td>\n",
              "      <td>no</td>\n",
              "      <td>no</td>\n",
              "      <td>no</td>\n",
              "      <td>no</td>\n",
              "      <td>20/05/2017</td>\n",
              "      <td>no</td>\n",
              "      <td>19:33</td>\n",
              "      <td>night</td>\n",
              "      <td>small</td>\n",
              "      <td>saika</td>\n",
              "      <td>mid</td>\n",
              "      <td>saturday</td>\n",
              "      <td>weekend</td>\n",
              "      <td>no</td>\n",
              "      <td>20</td>\n",
              "      <td>5.0</td>\n",
              "      <td>2017.0</td>\n",
              "      <td>NaN</td>\n",
              "      <td>20/05/2017 19:33</td>\n",
              "    </tr>\n",
              "    <tr>\n",
              "      <th>1</th>\n",
              "      <td>acacia</td>\n",
              "      <td>1.0</td>\n",
              "      <td>1.0</td>\n",
              "      <td>90.0</td>\n",
              "      <td>500.0</td>\n",
              "      <td>410.0</td>\n",
              "      <td>cash</td>\n",
              "      <td>yes</td>\n",
              "      <td>no</td>\n",
              "      <td>no</td>\n",
              "      <td>no</td>\n",
              "      <td>no</td>\n",
              "      <td>no</td>\n",
              "      <td>no</td>\n",
              "      <td>20/05/2017</td>\n",
              "      <td>no</td>\n",
              "      <td>19:12</td>\n",
              "      <td>night</td>\n",
              "      <td>small</td>\n",
              "      <td>saika</td>\n",
              "      <td>mid</td>\n",
              "      <td>saturday</td>\n",
              "      <td>weekend</td>\n",
              "      <td>no</td>\n",
              "      <td>20</td>\n",
              "      <td>5.0</td>\n",
              "      <td>2017.0</td>\n",
              "      <td>NaN</td>\n",
              "      <td>20/05/2017 19:12</td>\n",
              "    </tr>\n",
              "    <tr>\n",
              "      <th>2</th>\n",
              "      <td>acacia</td>\n",
              "      <td>3.0</td>\n",
              "      <td>1.0</td>\n",
              "      <td>270.0</td>\n",
              "      <td>300.0</td>\n",
              "      <td>30.0</td>\n",
              "      <td>cash</td>\n",
              "      <td>yes</td>\n",
              "      <td>no</td>\n",
              "      <td>no</td>\n",
              "      <td>no</td>\n",
              "      <td>no</td>\n",
              "      <td>no</td>\n",
              "      <td>no</td>\n",
              "      <td>20/05/2017</td>\n",
              "      <td>no</td>\n",
              "      <td>19:16</td>\n",
              "      <td>night</td>\n",
              "      <td>small</td>\n",
              "      <td>saika</td>\n",
              "      <td>mid</td>\n",
              "      <td>saturday</td>\n",
              "      <td>weekend</td>\n",
              "      <td>no</td>\n",
              "      <td>20</td>\n",
              "      <td>5.0</td>\n",
              "      <td>2017.0</td>\n",
              "      <td>NaN</td>\n",
              "      <td>20/05/2017 19:16</td>\n",
              "    </tr>\n",
              "    <tr>\n",
              "      <th>3</th>\n",
              "      <td>acacia</td>\n",
              "      <td>3.0</td>\n",
              "      <td>1.0</td>\n",
              "      <td>137.0</td>\n",
              "      <td>200.0</td>\n",
              "      <td>63.0</td>\n",
              "      <td>cash</td>\n",
              "      <td>yes</td>\n",
              "      <td>no</td>\n",
              "      <td>no</td>\n",
              "      <td>no</td>\n",
              "      <td>no</td>\n",
              "      <td>no</td>\n",
              "      <td>no</td>\n",
              "      <td>20/05/2017</td>\n",
              "      <td>no</td>\n",
              "      <td>19:12</td>\n",
              "      <td>night</td>\n",
              "      <td>small</td>\n",
              "      <td>saika</td>\n",
              "      <td>mid</td>\n",
              "      <td>saturday</td>\n",
              "      <td>weekend</td>\n",
              "      <td>no</td>\n",
              "      <td>20</td>\n",
              "      <td>5.0</td>\n",
              "      <td>2017.0</td>\n",
              "      <td>NaN</td>\n",
              "      <td>20/05/2017 19:12</td>\n",
              "    </tr>\n",
              "    <tr>\n",
              "      <th>4</th>\n",
              "      <td>acacia</td>\n",
              "      <td>1.0</td>\n",
              "      <td>1.0</td>\n",
              "      <td>75.0</td>\n",
              "      <td>80.0</td>\n",
              "      <td>5.0</td>\n",
              "      <td>cash</td>\n",
              "      <td>yes</td>\n",
              "      <td>no</td>\n",
              "      <td>no</td>\n",
              "      <td>no</td>\n",
              "      <td>no</td>\n",
              "      <td>no</td>\n",
              "      <td>no</td>\n",
              "      <td>20/05/2017</td>\n",
              "      <td>no</td>\n",
              "      <td>18:31</td>\n",
              "      <td>afternoon</td>\n",
              "      <td>small</td>\n",
              "      <td>saika</td>\n",
              "      <td>mid</td>\n",
              "      <td>saturday</td>\n",
              "      <td>weekend</td>\n",
              "      <td>no</td>\n",
              "      <td>20</td>\n",
              "      <td>5.0</td>\n",
              "      <td>2017.0</td>\n",
              "      <td>NaN</td>\n",
              "      <td>20/05/2017 18:31</td>\n",
              "    </tr>\n",
              "    <tr>\n",
              "      <th>5</th>\n",
              "      <td>nakumatt</td>\n",
              "      <td>22.0</td>\n",
              "      <td>3.0</td>\n",
              "      <td>5611.0</td>\n",
              "      <td>5611.0</td>\n",
              "      <td>0.0</td>\n",
              "      <td>card</td>\n",
              "      <td>yes</td>\n",
              "      <td>no</td>\n",
              "      <td>no</td>\n",
              "      <td>yes</td>\n",
              "      <td>yes</td>\n",
              "      <td>no</td>\n",
              "      <td>no</td>\n",
              "      <td>24/12/2016</td>\n",
              "      <td>no</td>\n",
              "      <td>16:26</td>\n",
              "      <td>afternoon</td>\n",
              "      <td>chain</td>\n",
              "      <td>cbd</td>\n",
              "      <td>mid</td>\n",
              "      <td>wednesday</td>\n",
              "      <td>weekday</td>\n",
              "      <td>yes</td>\n",
              "      <td>24</td>\n",
              "      <td>12.0</td>\n",
              "      <td>2016.0</td>\n",
              "      <td>NaN</td>\n",
              "      <td>24/12/2016 16:26</td>\n",
              "    </tr>\n",
              "    <tr>\n",
              "      <th>6</th>\n",
              "      <td>acacia</td>\n",
              "      <td>1.0</td>\n",
              "      <td>1.0</td>\n",
              "      <td>55.0</td>\n",
              "      <td>100.0</td>\n",
              "      <td>45.0</td>\n",
              "      <td>cash</td>\n",
              "      <td>yes</td>\n",
              "      <td>no</td>\n",
              "      <td>no</td>\n",
              "      <td>no</td>\n",
              "      <td>no</td>\n",
              "      <td>no</td>\n",
              "      <td>no</td>\n",
              "      <td>20/05/2017</td>\n",
              "      <td>no</td>\n",
              "      <td>18:23</td>\n",
              "      <td>afternoon</td>\n",
              "      <td>small</td>\n",
              "      <td>saika</td>\n",
              "      <td>mid</td>\n",
              "      <td>saturday</td>\n",
              "      <td>weekend</td>\n",
              "      <td>no</td>\n",
              "      <td>20</td>\n",
              "      <td>5.0</td>\n",
              "      <td>2017.0</td>\n",
              "      <td>NaN</td>\n",
              "      <td>20/05/2017 18:23</td>\n",
              "    </tr>\n",
              "    <tr>\n",
              "      <th>7</th>\n",
              "      <td>chandarana</td>\n",
              "      <td>32.0</td>\n",
              "      <td>3.0</td>\n",
              "      <td>7955.0</td>\n",
              "      <td>7955.0</td>\n",
              "      <td>0.0</td>\n",
              "      <td>mpesa</td>\n",
              "      <td>yes</td>\n",
              "      <td>no</td>\n",
              "      <td>no</td>\n",
              "      <td>yes</td>\n",
              "      <td>yes</td>\n",
              "      <td>no</td>\n",
              "      <td>no</td>\n",
              "      <td>03/01/2017</td>\n",
              "      <td>yes</td>\n",
              "      <td>19:03</td>\n",
              "      <td>night</td>\n",
              "      <td>median</td>\n",
              "      <td>yaya</td>\n",
              "      <td>high</td>\n",
              "      <td>tuesday</td>\n",
              "      <td>weekday</td>\n",
              "      <td>no</td>\n",
              "      <td>3</td>\n",
              "      <td>1.0</td>\n",
              "      <td>2017.0</td>\n",
              "      <td>NaN</td>\n",
              "      <td>03/01/2017 19:03</td>\n",
              "    </tr>\n",
              "    <tr>\n",
              "      <th>8</th>\n",
              "      <td>nakumatt</td>\n",
              "      <td>1.0</td>\n",
              "      <td>1.0</td>\n",
              "      <td>780.0</td>\n",
              "      <td>1000.0</td>\n",
              "      <td>220.0</td>\n",
              "      <td>cash</td>\n",
              "      <td>no</td>\n",
              "      <td>no</td>\n",
              "      <td>no</td>\n",
              "      <td>yes</td>\n",
              "      <td>no</td>\n",
              "      <td>no</td>\n",
              "      <td>no</td>\n",
              "      <td>27/03/2017</td>\n",
              "      <td>yes</td>\n",
              "      <td>19:34</td>\n",
              "      <td>night</td>\n",
              "      <td>chain</td>\n",
              "      <td>kilimani</td>\n",
              "      <td>high</td>\n",
              "      <td>monday</td>\n",
              "      <td>weekday</td>\n",
              "      <td>no</td>\n",
              "      <td>27</td>\n",
              "      <td>3.0</td>\n",
              "      <td>2017.0</td>\n",
              "      <td>NaN</td>\n",
              "      <td>27/03/2017 19:34</td>\n",
              "    </tr>\n",
              "    <tr>\n",
              "      <th>9</th>\n",
              "      <td>acacia</td>\n",
              "      <td>1.0</td>\n",
              "      <td>1.0</td>\n",
              "      <td>235.0</td>\n",
              "      <td>500.0</td>\n",
              "      <td>265.0</td>\n",
              "      <td>cash</td>\n",
              "      <td>no</td>\n",
              "      <td>no</td>\n",
              "      <td>no</td>\n",
              "      <td>yes</td>\n",
              "      <td>no</td>\n",
              "      <td>no</td>\n",
              "      <td>no</td>\n",
              "      <td>15/05/2017</td>\n",
              "      <td>no</td>\n",
              "      <td>14:06</td>\n",
              "      <td>afternoon</td>\n",
              "      <td>small</td>\n",
              "      <td>saika</td>\n",
              "      <td>mid</td>\n",
              "      <td>monday</td>\n",
              "      <td>weekday</td>\n",
              "      <td>no</td>\n",
              "      <td>15</td>\n",
              "      <td>5.0</td>\n",
              "      <td>2017.0</td>\n",
              "      <td>NaN</td>\n",
              "      <td>15/05/2017 14:06</td>\n",
              "    </tr>\n",
              "  </tbody>\n",
              "</table>\n",
              "</div>"
            ],
            "text/plain": [
              "  supermarket  no_of_items  variation  ...    year  Unnamed: 27         Date_Time\n",
              "0      acacia          1.0        1.0  ...  2017.0          NaN  20/05/2017 19:33\n",
              "1      acacia          1.0        1.0  ...  2017.0          NaN  20/05/2017 19:12\n",
              "2      acacia          3.0        1.0  ...  2017.0          NaN  20/05/2017 19:16\n",
              "3      acacia          3.0        1.0  ...  2017.0          NaN  20/05/2017 19:12\n",
              "4      acacia          1.0        1.0  ...  2017.0          NaN  20/05/2017 18:31\n",
              "5    nakumatt         22.0        3.0  ...  2016.0          NaN  24/12/2016 16:26\n",
              "6      acacia          1.0        1.0  ...  2017.0          NaN  20/05/2017 18:23\n",
              "7  chandarana         32.0        3.0  ...  2017.0          NaN  03/01/2017 19:03\n",
              "8    nakumatt          1.0        1.0  ...  2017.0          NaN  27/03/2017 19:34\n",
              "9      acacia          1.0        1.0  ...  2017.0          NaN  15/05/2017 14:06\n",
              "\n",
              "[10 rows x 29 columns]"
            ]
          },
          "metadata": {},
          "execution_count": 128
        }
      ]
    },
    {
      "cell_type": "code",
      "metadata": {
        "colab": {
          "base_uri": "https://localhost:8080/",
          "height": 313
        },
        "id": "3XR-beb9CQF-",
        "outputId": "2f379ad8-cc50-4a5f-f0d0-0db3670da296"
      },
      "source": [
        "##To drop the separate date and time columns\n",
        "#Unnamed: 27 was an empty column with no data\n",
        "df_cleaned = df.drop(['date', 'time','Unnamed: 27'], axis = 1)\n",
        "df_cleaned.head(5)"
      ],
      "execution_count": null,
      "outputs": [
        {
          "output_type": "execute_result",
          "data": {
            "text/html": [
              "<div>\n",
              "<style scoped>\n",
              "    .dataframe tbody tr th:only-of-type {\n",
              "        vertical-align: middle;\n",
              "    }\n",
              "\n",
              "    .dataframe tbody tr th {\n",
              "        vertical-align: top;\n",
              "    }\n",
              "\n",
              "    .dataframe thead th {\n",
              "        text-align: right;\n",
              "    }\n",
              "</style>\n",
              "<table border=\"1\" class=\"dataframe\">\n",
              "  <thead>\n",
              "    <tr style=\"text-align: right;\">\n",
              "      <th></th>\n",
              "      <th>supermarket</th>\n",
              "      <th>no_of_items</th>\n",
              "      <th>variation</th>\n",
              "      <th>total</th>\n",
              "      <th>paid</th>\n",
              "      <th>change</th>\n",
              "      <th>type</th>\n",
              "      <th>food</th>\n",
              "      <th>snack</th>\n",
              "      <th>beverage</th>\n",
              "      <th>consumables</th>\n",
              "      <th>high_end</th>\n",
              "      <th>asset</th>\n",
              "      <th>fixed_asset</th>\n",
              "      <th>mall</th>\n",
              "      <th>time_type</th>\n",
              "      <th>type_market</th>\n",
              "      <th>location</th>\n",
              "      <th>loc_category</th>\n",
              "      <th>day</th>\n",
              "      <th>day_type</th>\n",
              "      <th>24hr</th>\n",
              "      <th>day.1</th>\n",
              "      <th>month</th>\n",
              "      <th>year</th>\n",
              "      <th>Date_Time</th>\n",
              "    </tr>\n",
              "  </thead>\n",
              "  <tbody>\n",
              "    <tr>\n",
              "      <th>0</th>\n",
              "      <td>acacia</td>\n",
              "      <td>1.0</td>\n",
              "      <td>1.0</td>\n",
              "      <td>90.0</td>\n",
              "      <td>100.0</td>\n",
              "      <td>10.0</td>\n",
              "      <td>cash</td>\n",
              "      <td>yes</td>\n",
              "      <td>no</td>\n",
              "      <td>no</td>\n",
              "      <td>no</td>\n",
              "      <td>no</td>\n",
              "      <td>no</td>\n",
              "      <td>no</td>\n",
              "      <td>no</td>\n",
              "      <td>night</td>\n",
              "      <td>small</td>\n",
              "      <td>saika</td>\n",
              "      <td>mid</td>\n",
              "      <td>saturday</td>\n",
              "      <td>weekend</td>\n",
              "      <td>no</td>\n",
              "      <td>20</td>\n",
              "      <td>5.0</td>\n",
              "      <td>2017.0</td>\n",
              "      <td>20/05/2017 19:33</td>\n",
              "    </tr>\n",
              "    <tr>\n",
              "      <th>1</th>\n",
              "      <td>acacia</td>\n",
              "      <td>1.0</td>\n",
              "      <td>1.0</td>\n",
              "      <td>90.0</td>\n",
              "      <td>500.0</td>\n",
              "      <td>410.0</td>\n",
              "      <td>cash</td>\n",
              "      <td>yes</td>\n",
              "      <td>no</td>\n",
              "      <td>no</td>\n",
              "      <td>no</td>\n",
              "      <td>no</td>\n",
              "      <td>no</td>\n",
              "      <td>no</td>\n",
              "      <td>no</td>\n",
              "      <td>night</td>\n",
              "      <td>small</td>\n",
              "      <td>saika</td>\n",
              "      <td>mid</td>\n",
              "      <td>saturday</td>\n",
              "      <td>weekend</td>\n",
              "      <td>no</td>\n",
              "      <td>20</td>\n",
              "      <td>5.0</td>\n",
              "      <td>2017.0</td>\n",
              "      <td>20/05/2017 19:12</td>\n",
              "    </tr>\n",
              "    <tr>\n",
              "      <th>2</th>\n",
              "      <td>acacia</td>\n",
              "      <td>3.0</td>\n",
              "      <td>1.0</td>\n",
              "      <td>270.0</td>\n",
              "      <td>300.0</td>\n",
              "      <td>30.0</td>\n",
              "      <td>cash</td>\n",
              "      <td>yes</td>\n",
              "      <td>no</td>\n",
              "      <td>no</td>\n",
              "      <td>no</td>\n",
              "      <td>no</td>\n",
              "      <td>no</td>\n",
              "      <td>no</td>\n",
              "      <td>no</td>\n",
              "      <td>night</td>\n",
              "      <td>small</td>\n",
              "      <td>saika</td>\n",
              "      <td>mid</td>\n",
              "      <td>saturday</td>\n",
              "      <td>weekend</td>\n",
              "      <td>no</td>\n",
              "      <td>20</td>\n",
              "      <td>5.0</td>\n",
              "      <td>2017.0</td>\n",
              "      <td>20/05/2017 19:16</td>\n",
              "    </tr>\n",
              "    <tr>\n",
              "      <th>3</th>\n",
              "      <td>acacia</td>\n",
              "      <td>3.0</td>\n",
              "      <td>1.0</td>\n",
              "      <td>137.0</td>\n",
              "      <td>200.0</td>\n",
              "      <td>63.0</td>\n",
              "      <td>cash</td>\n",
              "      <td>yes</td>\n",
              "      <td>no</td>\n",
              "      <td>no</td>\n",
              "      <td>no</td>\n",
              "      <td>no</td>\n",
              "      <td>no</td>\n",
              "      <td>no</td>\n",
              "      <td>no</td>\n",
              "      <td>night</td>\n",
              "      <td>small</td>\n",
              "      <td>saika</td>\n",
              "      <td>mid</td>\n",
              "      <td>saturday</td>\n",
              "      <td>weekend</td>\n",
              "      <td>no</td>\n",
              "      <td>20</td>\n",
              "      <td>5.0</td>\n",
              "      <td>2017.0</td>\n",
              "      <td>20/05/2017 19:12</td>\n",
              "    </tr>\n",
              "    <tr>\n",
              "      <th>4</th>\n",
              "      <td>acacia</td>\n",
              "      <td>1.0</td>\n",
              "      <td>1.0</td>\n",
              "      <td>75.0</td>\n",
              "      <td>80.0</td>\n",
              "      <td>5.0</td>\n",
              "      <td>cash</td>\n",
              "      <td>yes</td>\n",
              "      <td>no</td>\n",
              "      <td>no</td>\n",
              "      <td>no</td>\n",
              "      <td>no</td>\n",
              "      <td>no</td>\n",
              "      <td>no</td>\n",
              "      <td>no</td>\n",
              "      <td>afternoon</td>\n",
              "      <td>small</td>\n",
              "      <td>saika</td>\n",
              "      <td>mid</td>\n",
              "      <td>saturday</td>\n",
              "      <td>weekend</td>\n",
              "      <td>no</td>\n",
              "      <td>20</td>\n",
              "      <td>5.0</td>\n",
              "      <td>2017.0</td>\n",
              "      <td>20/05/2017 18:31</td>\n",
              "    </tr>\n",
              "  </tbody>\n",
              "</table>\n",
              "</div>"
            ],
            "text/plain": [
              "  supermarket  no_of_items  variation  ...  month    year         Date_Time\n",
              "0      acacia          1.0        1.0  ...    5.0  2017.0  20/05/2017 19:33\n",
              "1      acacia          1.0        1.0  ...    5.0  2017.0  20/05/2017 19:12\n",
              "2      acacia          3.0        1.0  ...    5.0  2017.0  20/05/2017 19:16\n",
              "3      acacia          3.0        1.0  ...    5.0  2017.0  20/05/2017 19:12\n",
              "4      acacia          1.0        1.0  ...    5.0  2017.0  20/05/2017 18:31\n",
              "\n",
              "[5 rows x 26 columns]"
            ]
          },
          "metadata": {},
          "execution_count": 129
        }
      ]
    },
    {
      "cell_type": "markdown",
      "metadata": {
        "id": "-qzbTeVe_SOr"
      },
      "source": [
        "#**DATA ANALYSIS**\n",
        "The data is inspected, transformed, and modelled with the goal of discovering useful information, informing conclusions and supporting decision-making"
      ]
    },
    {
      "cell_type": "code",
      "metadata": {
        "id": "B_CvWJ6dC7pQ",
        "colab": {
          "base_uri": "https://localhost:8080/"
        },
        "outputId": "f3cd5cae-5b46-4de0-92fe-4376ec3c0a78"
      },
      "source": [
        "#displaying all the different supermarkets\n",
        "df_cleaned['supermarket'].unique()"
      ],
      "execution_count": null,
      "outputs": [
        {
          "output_type": "execute_result",
          "data": {
            "text/plain": [
              "array(['acacia', 'nakumatt', 'chandarana', 'tuskys', 'uchumi', 'naivas',\n",
              "       'kamindi', 'karrymart', 'ukwala', 'neema', 'eastmatt', 'kassmart',\n",
              "       'fairway', 'tumaini', 'cleanshelf', nan, 'large neema',\n",
              "       'interstrat', 'zucchini', 'magna', 'Tuskys', 'Naivas',\n",
              "       'Selfridges', 'Eastmatt', 'foodplus'], dtype=object)"
            ]
          },
          "metadata": {},
          "execution_count": 130
        }
      ]
    },
    {
      "cell_type": "code",
      "metadata": {
        "colab": {
          "base_uri": "https://localhost:8080/"
        },
        "id": "3DkP5Yd6XPPn",
        "outputId": "4522af4a-b3de-42ba-db9c-80f621eb4ac8"
      },
      "source": [
        "#checking the supermarket records\n",
        "print(df_cleaned['supermarket'].describe())"
      ],
      "execution_count": null,
      "outputs": [
        {
          "output_type": "stream",
          "name": "stdout",
          "text": [
            "count          1463\n",
            "unique           24\n",
            "top       karrymart\n",
            "freq            520\n",
            "Name: supermarket, dtype: object\n"
          ]
        }
      ]
    },
    {
      "cell_type": "code",
      "metadata": {
        "colab": {
          "base_uri": "https://localhost:8080/"
        },
        "id": "uLK_JdkIXPjg",
        "outputId": "7905d407-d6a6-44fe-8e7f-84b43564d924"
      },
      "source": [
        "#checking how many times each supermarket appears in the dataset\n",
        "df_cleaned['supermarket'].value_counts()"
      ],
      "execution_count": null,
      "outputs": [
        {
          "output_type": "execute_result",
          "data": {
            "text/plain": [
              "karrymart      520\n",
              "tumaini        268\n",
              "nakumatt       180\n",
              "cleanshelf     128\n",
              "tuskys         126\n",
              "ukwala          56\n",
              "acacia          53\n",
              "naivas          30\n",
              "eastmatt        26\n",
              "Tuskys          16\n",
              "Naivas          15\n",
              "chandarana      12\n",
              "uchumi          10\n",
              "zucchini         4\n",
              "neema            4\n",
              "kamindi          3\n",
              "Selfridges       2\n",
              "large neema      2\n",
              "Eastmatt         2\n",
              "fairway          2\n",
              "magna            1\n",
              "interstrat       1\n",
              "kassmart         1\n",
              "foodplus         1\n",
              "Name: supermarket, dtype: int64"
            ]
          },
          "metadata": {},
          "execution_count": 132
        }
      ]
    },
    {
      "cell_type": "code",
      "metadata": {
        "colab": {
          "base_uri": "https://localhost:8080/",
          "height": 349
        },
        "id": "Areyee8ziISa",
        "outputId": "a0c3ab6c-c052-4383-9654-58625921b496"
      },
      "source": [
        "import matplotlib.pyplot as plt\n",
        "df_cleaned.plot.bar(x = 'supermarket', y = 'total')"
      ],
      "execution_count": null,
      "outputs": [
        {
          "output_type": "execute_result",
          "data": {
            "text/plain": [
              "<matplotlib.axes._subplots.AxesSubplot at 0x7f7df13a6710>"
            ]
          },
          "metadata": {},
          "execution_count": 179
        },
        {
          "output_type": "display_data",
          "data": {
            "image/png": "[encoded data removed]",
            "text/plain": [
              "<Figure size 432x288 with 1 Axes>"
            ]
          },
          "metadata": {
            "needs_background": "light"
          }
        }
      ]
    },
    {
      "cell_type": "code",
      "metadata": {
        "colab": {
          "base_uri": "https://localhost:8080/",
          "height": 53
        },
        "id": "zyYsQulpjfCr",
        "outputId": "4d034e4b-0413-4e5f-8cd7-07c81eb3821a"
      },
      "source": [
        "print(\"The most popular supermarket is: \")\n",
        "#used this method since 'supermarket' column is a string\n",
        "#To find out which supermarket has the most frequency\n",
        "df_cleaned['supermarket'].value_counts(). idxmax()"
      ],
      "execution_count": null,
      "outputs": [
        {
          "output_type": "stream",
          "name": "stdout",
          "text": [
            "The most popular supermarket is: \n"
          ]
        },
        {
          "output_type": "execute_result",
          "data": {
            "application/vnd.google.colaboratory.intrinsic+json": {
              "type": "string"
            },
            "text/plain": [
              "'karrymart'"
            ]
          },
          "metadata": {},
          "execution_count": 133
        }
      ]
    },
    {
      "cell_type": "markdown",
      "metadata": {
        "id": "xLdzS2Ga8fMV"
      },
      "source": [
        "### **Do shoppers spend more on a weekday at a supermarket retail chain outside a mall?**\n"
      ]
    },
    {
      "cell_type": "code",
      "metadata": {
        "id": "4HSnElBr7lJa"
      },
      "source": [
        "#on weekdays\n",
        "weekday = (df_cleaned['day_type'] == 'weekday')\n",
        "#on weekends condition\n",
        "weekend = (df_cleaned['day_type'] == 'weekend')"
      ],
      "execution_count": null,
      "outputs": []
    },
    {
      "cell_type": "code",
      "metadata": {
        "id": "a_hvmDGt7aCx"
      },
      "source": [
        "#narrow down to mall data\n",
        "mall = (df_cleaned['mall'] == 'yes')\n",
        "#supermarkets not in malls\n",
        "no_mall = (df_cleaned['mall'] == 'no')"
      ],
      "execution_count": null,
      "outputs": []
    },
    {
      "cell_type": "code",
      "metadata": {
        "colab": {
          "base_uri": "https://localhost:8080/"
        },
        "id": "N6X5AxT3XPsP",
        "outputId": "35bd6e99-2b3d-4e32-df43-d41bcc299ded"
      },
      "source": [
        "#finding the total sales for supermarkets in malls on weekdays\n",
        "wd_sales = df_cleaned[weekday & mall]\n",
        "wd_sales['total'].sum()"
      ],
      "execution_count": null,
      "outputs": [
        {
          "output_type": "execute_result",
          "data": {
            "text/plain": [
              "123331.70999999999"
            ]
          },
          "metadata": {},
          "execution_count": 136
        }
      ]
    },
    {
      "cell_type": "code",
      "metadata": {
        "colab": {
          "base_uri": "https://localhost:8080/"
        },
        "id": "-JExQSPi31Wa",
        "outputId": "dc960992-93be-4b57-803e-ba4c4cdb7edb"
      },
      "source": [
        "#finding the total sales for supermarkets outside malls on weekdays\n",
        "\n",
        "wkdy_sales = df_cleaned[weekday & no_mall]\n",
        "wkdy_sales['total'].sum()"
      ],
      "execution_count": null,
      "outputs": [
        {
          "output_type": "execute_result",
          "data": {
            "text/plain": [
              "240746.9"
            ]
          },
          "metadata": {},
          "execution_count": 137
        }
      ]
    },
    {
      "cell_type": "code",
      "metadata": {
        "colab": {
          "base_uri": "https://localhost:8080/"
        },
        "id": "qli47ubfxr_m",
        "outputId": "d8a0757c-6526-4d0f-816f-919e52e726bf"
      },
      "source": [
        "#finding the total sales for supermarkets in malls on weekends\n",
        "\n",
        "wknd_sales = df_cleaned[weekend & mall]\n",
        "wknd_sales['total'].sum()"
      ],
      "execution_count": null,
      "outputs": [
        {
          "output_type": "execute_result",
          "data": {
            "text/plain": [
              "7117.0"
            ]
          },
          "metadata": {},
          "execution_count": 138
        }
      ]
    },
    {
      "cell_type": "code",
      "metadata": {
        "colab": {
          "base_uri": "https://localhost:8080/"
        },
        "id": "gq5Rke_y41vr",
        "outputId": "ce1d1336-38e1-4648-cde2-254d1f443e9f"
      },
      "source": [
        "#finding the total sales for supermarkets outside malls on weekends\n",
        "\n",
        "wknd = df_cleaned[weekend & no_mall]\n",
        "wknd['total'].sum()"
      ],
      "execution_count": null,
      "outputs": [
        {
          "output_type": "execute_result",
          "data": {
            "text/plain": [
              "85252.0"
            ]
          },
          "metadata": {},
          "execution_count": 139
        }
      ]
    },
    {
      "cell_type": "markdown",
      "metadata": {
        "id": "Q_bev8aFEO-F"
      },
      "source": [
        "**Supermarkets that were outside malls made more sales on weekdays and weekends as well**"
      ]
    },
    {
      "cell_type": "markdown",
      "metadata": {
        "id": "yV5QSrHR9IlF"
      },
      "source": [
        "## **Did consumers prefer chain, medium or small stores?**\n"
      ]
    },
    {
      "cell_type": "code",
      "metadata": {
        "colab": {
          "base_uri": "https://localhost:8080/"
        },
        "id": "Kvgejly-egsD",
        "outputId": "056f535b-7f9d-422e-e02e-7575ec9857a4"
      },
      "source": [
        "#viewing the type of supermarkets and how often they appear\n",
        "#counting the number of values in the type_market column\n",
        "df_cleaned['type_market'].value_counts()\n"
      ],
      "execution_count": null,
      "outputs": [
        {
          "output_type": "execute_result",
          "data": {
            "text/plain": [
              "chain     1297\n",
              "small      130\n",
              "median      37\n",
              "Name: type_market, dtype: int64"
            ]
          },
          "metadata": {},
          "execution_count": 140
        }
      ]
    },
    {
      "cell_type": "code",
      "metadata": {
        "colab": {
          "base_uri": "https://localhost:8080/"
        },
        "id": "SLgiAaEX1cmb",
        "outputId": "6812fd6a-953f-4ebe-b9cf-62237067b3ea"
      },
      "source": [
        "#total sales for the chain supermarkets\n",
        "types = df_cleaned.groupby('type_market')\n",
        "chain = types.get_group('chain')\n",
        "chain['total'].sum()"
      ],
      "execution_count": null,
      "outputs": [
        {
          "output_type": "execute_result",
          "data": {
            "text/plain": [
              "415972.61"
            ]
          },
          "metadata": {},
          "execution_count": 141
        }
      ]
    },
    {
      "cell_type": "code",
      "metadata": {
        "colab": {
          "base_uri": "https://localhost:8080/"
        },
        "id": "ktebYnLh1mmD",
        "outputId": "f00ce8ad-a647-4ad6-fe81-283e745d62b9"
      },
      "source": [
        "#total sales for the median supermarkets\n",
        "median = types.get_group('median')\n",
        "median['total'].sum()"
      ],
      "execution_count": null,
      "outputs": [
        {
          "output_type": "execute_result",
          "data": {
            "text/plain": [
              "13397.0"
            ]
          },
          "metadata": {},
          "execution_count": 142
        }
      ]
    },
    {
      "cell_type": "code",
      "metadata": {
        "colab": {
          "base_uri": "https://localhost:8080/"
        },
        "id": "rjC5frWP1cq0",
        "outputId": "bfd8dfe3-a672-4bf7-bb81-61d62e9f4b2e"
      },
      "source": [
        "#total sales for the small supermarkets\n",
        "small = types.get_group('small')\n",
        "small['total'].sum()"
      ],
      "execution_count": null,
      "outputs": [
        {
          "output_type": "execute_result",
          "data": {
            "text/plain": [
              "27078.0"
            ]
          },
          "metadata": {},
          "execution_count": 143
        }
      ]
    },
    {
      "cell_type": "markdown",
      "metadata": {
        "id": "Y-TFawraE3RA"
      },
      "source": [
        "##### **Customer prefered purchasing items from chain stores as compared to median and smaller stores**"
      ]
    },
    {
      "cell_type": "markdown",
      "metadata": {
        "id": "s0LNhEVU9Vcm"
      },
      "source": [
        "###**Which was the most common mode of payment?**"
      ]
    },
    {
      "cell_type": "code",
      "metadata": {
        "colab": {
          "base_uri": "https://localhost:8080/"
        },
        "id": "Czl80ZhZuG95",
        "outputId": "d66d96fe-d642-42ab-e9bb-4081c52dd0f5"
      },
      "source": [
        "#counting the most common mode of payment \n",
        "df_cleaned['type'].value_counts()"
      ],
      "execution_count": null,
      "outputs": [
        {
          "output_type": "execute_result",
          "data": {
            "text/plain": [
              "cash               1378\n",
              "mpesa                52\n",
              "card                 26\n",
              "credit card           3\n",
              "voucher               2\n",
              "redeemed points       2\n",
              "points                1\n",
              "Name: type, dtype: int64"
            ]
          },
          "metadata": {},
          "execution_count": 144
        }
      ]
    },
    {
      "cell_type": "markdown",
      "metadata": {
        "id": "vFH3Ny1cFSZn"
      },
      "source": [
        "####**Customers preferred paying for items using cash as compared to other payment methods**"
      ]
    },
    {
      "cell_type": "markdown",
      "metadata": {
        "id": "rMrOjdpoo512"
      },
      "source": [
        "###**Which category of items were less/more purchased in mid/high income areas?**"
      ]
    },
    {
      "cell_type": "code",
      "metadata": {
        "colab": {
          "base_uri": "https://localhost:8080/"
        },
        "id": "7G-XWskrutC2",
        "outputId": "9084633e-1cd6-42a3-907f-80ac5192f661"
      },
      "source": [
        "#grouping by location category\n",
        "area_type = df_cleaned.groupby('loc_category')\n",
        "high = area_type.get_group('high')\n",
        "consumables = (df_cleaned['consumables']=='yes')\n",
        "#counting the number of times consumables were purchased in high income areas\n",
        "high[consumables].count()"
      ],
      "execution_count": null,
      "outputs": [
        {
          "output_type": "stream",
          "name": "stderr",
          "text": [
            "/usr/local/lib/python3.7/dist-packages/ipykernel_launcher.py:6: UserWarning: Boolean Series key will be reindexed to match DataFrame index.\n",
            "  \n"
          ]
        },
        {
          "output_type": "execute_result",
          "data": {
            "text/plain": [
              "<bound method DataFrame.count of      supermarket  no_of_items  variation  ...  month    year         Date_Time\n",
              "7     chandarana         32.0        3.0  ...    1.0  2017.0  03/01/2017 19:03\n",
              "8       nakumatt          1.0        1.0  ...    3.0  2017.0  27/03/2017 19:34\n",
              "69      nakumatt          1.0        1.0  ...    1.0  2017.0  24/01/2017 10:50\n",
              "121     nakumatt          5.0        3.0  ...    6.0  2017.0  01/06/2017 17:36\n",
              "122     nakumatt          2.0        2.0  ...    5.0  2017.0  21/05/2017 14:25\n",
              "850   chandarana          2.0        2.0  ...    5.0  2017.0  17/05/2017 14:48\n",
              "1282  chandarana          1.0        1.0  ...    5.0  2017.0  23/05/2017 14:12\n",
              "1404    nakumatt          1.0        1.0  ...    5.0  2017.0  26/05/2017 11:02\n",
              "1416    nakumatt          5.0        1.0  ...    8.0  2017.0  03/08/2017 20:18\n",
              "\n",
              "[9 rows x 26 columns]>"
            ]
          },
          "metadata": {},
          "execution_count": 145
        }
      ]
    },
    {
      "cell_type": "code",
      "metadata": {
        "colab": {
          "base_uri": "https://localhost:8080/"
        },
        "id": "qJ2-MJT8utJd",
        "outputId": "9668d8a3-f805-4177-eba9-7bff1b61a179"
      },
      "source": [
        "#counting the number of times consumables were purchased in mid income areas\n",
        "mid = area_type.get_group('mid')\n",
        "mid[consumables].count()"
      ],
      "execution_count": null,
      "outputs": [
        {
          "output_type": "stream",
          "name": "stderr",
          "text": [
            "/usr/local/lib/python3.7/dist-packages/ipykernel_launcher.py:3: UserWarning: Boolean Series key will be reindexed to match DataFrame index.\n",
            "  This is separate from the ipykernel package so we can avoid doing imports until\n"
          ]
        },
        {
          "output_type": "execute_result",
          "data": {
            "text/plain": [
              "<bound method DataFrame.count of      supermarket  no_of_items  variation  ...  month    year         Date_Time\n",
              "5       nakumatt         22.0        3.0  ...   12.0  2016.0  24/12/2016 16:26\n",
              "9         acacia          1.0        1.0  ...    5.0  2017.0  15/05/2017 14:06\n",
              "10        tuskys         33.0        6.0  ...   12.0  2016.0  07/12/2016 08:56\n",
              "12      nakumatt          3.0        1.0  ...    8.0  2016.0  20/08/2016 09:07\n",
              "25        tuskys          4.0        1.0  ...    5.0  2017.0  22/05/2017 13:32\n",
              "...          ...          ...        ...  ...    ...     ...               ...\n",
              "1439   karrymart          1.0        1.0  ...    5.0  2023.0  23/05/2023 10:17\n",
              "1449    nakumatt          2.0        2.0  ...    6.0  2017.0  18/06/2017 10:03\n",
              "1457      tuskys          2.0        3.0  ...    6.0  2017.0  15/06/2017 19:26\n",
              "1459      tuskys          4.0        3.0  ...    6.0  2017.0  15/06/2017 11:28\n",
              "1462      tuskys          5.0        2.0  ...    5.0  2017.0  08/05/2017 11:00\n",
              "\n",
              "[310 rows x 26 columns]>"
            ]
          },
          "metadata": {},
          "execution_count": 146
        }
      ]
    },
    {
      "cell_type": "markdown",
      "metadata": {
        "id": "2d2iy7Llw304"
      },
      "source": [
        "\n",
        "#####**Customers from mid income areas purchase more consumable goods as compared to those from high income areas**\n",
        "\n",
        "\n",
        "\n",
        "\n",
        "\n"
      ]
    },
    {
      "cell_type": "code",
      "metadata": {
        "colab": {
          "base_uri": "https://localhost:8080/"
        },
        "id": "pLO_kRteutb4",
        "outputId": "5ecf6d5a-09fb-42bb-d145-1f6eafbf6a37"
      },
      "source": [
        "#counting the number of times assets were purchased in mid income areas\n",
        "assets = (df_cleaned['asset']=='yes')\n",
        "mid[assets].count()"
      ],
      "execution_count": null,
      "outputs": [
        {
          "output_type": "stream",
          "name": "stderr",
          "text": [
            "/usr/local/lib/python3.7/dist-packages/ipykernel_launcher.py:3: UserWarning: Boolean Series key will be reindexed to match DataFrame index.\n",
            "  This is separate from the ipykernel package so we can avoid doing imports until\n"
          ]
        },
        {
          "output_type": "execute_result",
          "data": {
            "text/plain": [
              "<bound method DataFrame.count of      supermarket  no_of_items  variation  ...  month    year         Date_Time\n",
              "10        tuskys         33.0        6.0  ...   12.0  2016.0  07/12/2016 08:56\n",
              "13        uchumi          5.0        2.0  ...   10.0  2016.0  20/10/2016 17:41\n",
              "26        tuskys          9.0        3.0  ...    5.0  2017.0  22/05/2017 10:51\n",
              "31        naivas         10.0        4.0  ...    5.0  2017.0  21/05/2017 14:21\n",
              "49        tuskys          3.0        1.0  ...    5.0  2017.0  19/05/2017 12:06\n",
              "...          ...          ...        ...  ...    ...     ...               ...\n",
              "1411      tuskys         11.0        3.0  ...    6.0  2017.0  15/06/2017 20:46\n",
              "1424      tuskys          1.0        1.0  ...    9.0  2017.0  18/09/2017 15:31\n",
              "1425      ukwala         14.0        3.0  ...   11.0  2016.0  28/11/2016 19:26\n",
              "1434   karrymart          1.0        1.0  ...    5.0  2018.0  23/05/2018 16:08\n",
              "1447      tuskys          4.0        3.0  ...    6.0  2017.0  15/06/2017 20:24\n",
              "\n",
              "[126 rows x 26 columns]>"
            ]
          },
          "metadata": {},
          "execution_count": 147
        }
      ]
    },
    {
      "cell_type": "code",
      "metadata": {
        "colab": {
          "base_uri": "https://localhost:8080/"
        },
        "id": "WQ-VAyxNyTgk",
        "outputId": "32a6c7d1-88a9-482a-e144-28b07c5b76fd"
      },
      "source": [
        "#counting the number of times assets were purchased in high income areas\n",
        "high[assets].count()"
      ],
      "execution_count": null,
      "outputs": [
        {
          "output_type": "stream",
          "name": "stderr",
          "text": [
            "/usr/local/lib/python3.7/dist-packages/ipykernel_launcher.py:2: UserWarning: Boolean Series key will be reindexed to match DataFrame index.\n",
            "  \n"
          ]
        },
        {
          "output_type": "execute_result",
          "data": {
            "text/plain": [
              "<bound method DataFrame.count of      supermarket  no_of_items  variation  ...  month    year         Date_Time\n",
              "222     nakumatt          6.0        3.0  ...    6.0  2017.0  06/06/2017 10:45\n",
              "243     nakumatt          1.0        1.0  ...    6.0  2017.0  07/06/2017 21:00\n",
              "721     nakumatt          1.0        1.0  ...    6.0  2017.0  17/06/2017 09:56\n",
              "756     nakumatt          1.0        1.0  ...    6.0  2017.0  16/06/2017 16:24\n",
              "758     nakumatt          2.0        2.0  ...    6.0  2017.0    3/6/2017 09:03\n",
              "764     nakumatt          1.0        2.0  ...    5.0  2017.0  31/05/2017 13:09\n",
              "771     nakumatt          5.0        4.0  ...    6.0  2017.0  17/06/2017 17:08\n",
              "854     nakumatt          3.0        3.0  ...    5.0  2017.0  29/05/2017 11:30\n",
              "1275  chandarana          1.0        1.0  ...    5.0  2017.0  23/05/2017 20:49\n",
              "1400    nakumatt          1.0        1.0  ...    6.0  2017.0  09/06/2017 17:48\n",
              "1401    nakumatt          1.0        1.0  ...    6.0  2017.0  09/06/2017 17:48\n",
              "1402    nakumatt          2.0        2.0  ...    7.0  2017.0  21/07/2017 22:01\n",
              "1415    nakumatt          1.0        1.0  ...    8.0  2017.0  03/08/2017 20:20\n",
              "1419    nakumatt          1.0        1.0  ...    7.0  2017.0  02/07/2017 17:23\n",
              "\n",
              "[14 rows x 26 columns]>"
            ]
          },
          "metadata": {},
          "execution_count": 148
        }
      ]
    },
    {
      "cell_type": "markdown",
      "metadata": {
        "id": "XtRrWzYe1Zae"
      },
      "source": [
        "#####**Customers from mid income areas purchase assets more as compared to high income areas**"
      ]
    },
    {
      "cell_type": "code",
      "metadata": {
        "colab": {
          "base_uri": "https://localhost:8080/"
        },
        "id": "gzEk9nLIo43m",
        "outputId": "9e309bcd-7f3b-40a4-d6ff-688947ce6d52"
      },
      "source": [
        "#counting the number of times fixed_assets were purchased in high income areas\n",
        "fixed_asset = (df_cleaned['fixed_asset']=='yes')\n",
        "high[fixed_asset].count"
      ],
      "execution_count": null,
      "outputs": [
        {
          "output_type": "stream",
          "name": "stderr",
          "text": [
            "/usr/local/lib/python3.7/dist-packages/ipykernel_launcher.py:3: UserWarning: Boolean Series key will be reindexed to match DataFrame index.\n",
            "  This is separate from the ipykernel package so we can avoid doing imports until\n"
          ]
        },
        {
          "output_type": "execute_result",
          "data": {
            "text/plain": [
              "<bound method DataFrame.count of     supermarket  no_of_items  variation  ...  month    year         Date_Time\n",
              "222    nakumatt          6.0        3.0  ...    6.0  2017.0  06/06/2017 10:45\n",
              "\n",
              "[1 rows x 26 columns]>"
            ]
          },
          "metadata": {},
          "execution_count": 149
        }
      ]
    },
    {
      "cell_type": "code",
      "metadata": {
        "colab": {
          "base_uri": "https://localhost:8080/"
        },
        "id": "-ifSNfQdo5EY",
        "outputId": "cd752ca2-dd9f-49f3-eed7-4869a571239e"
      },
      "source": [
        "#counting the number of times fixed_assets were purchased in mid income areas\n",
        "mid[fixed_asset].count"
      ],
      "execution_count": null,
      "outputs": [
        {
          "output_type": "stream",
          "name": "stderr",
          "text": [
            "/usr/local/lib/python3.7/dist-packages/ipykernel_launcher.py:2: UserWarning: Boolean Series key will be reindexed to match DataFrame index.\n",
            "  \n"
          ]
        },
        {
          "output_type": "execute_result",
          "data": {
            "text/plain": [
              "<bound method DataFrame.count of     supermarket  no_of_items  variation  ...  month    year         Date_Time\n",
              "101    nakumatt          6.0        3.0  ...    3.0  2017.0  10/03/2017 16:30\n",
              "150      tuskys          2.0        1.0  ...    6.0  2017.0  02/06/2017 18:22\n",
              "\n",
              "[2 rows x 26 columns]>"
            ]
          },
          "metadata": {},
          "execution_count": 150
        }
      ]
    },
    {
      "cell_type": "markdown",
      "metadata": {
        "id": "MDFlexI52yTo"
      },
      "source": [
        "**Customers from Mid income areas purchased more fixed assets as compared to high income areas**"
      ]
    },
    {
      "cell_type": "markdown",
      "metadata": {
        "id": "LaiQ5Q0U3m23"
      },
      "source": [
        "### **Did the chain stores that operated 24 hours have more sales?**"
      ]
    },
    {
      "cell_type": "code",
      "metadata": {
        "colab": {
          "base_uri": "https://localhost:8080/"
        },
        "id": "ZqeoRbmT59UA",
        "outputId": "b8346ff0-8384-48a1-cdec-5a628816521d"
      },
      "source": [
        "#classify the stores by the time periods they operate\n",
        "time = df_cleaned.groupby('24hr')\n",
        "#chosingg those that operate for 24hrs\n",
        "two4seven = time.get_group('yes')\n",
        "#finding the sum of the sales column\n",
        "two4seven['total'].sum()"
      ],
      "execution_count": null,
      "outputs": [
        {
          "output_type": "execute_result",
          "data": {
            "text/plain": [
              "37085.0"
            ]
          },
          "metadata": {},
          "execution_count": 165
        }
      ]
    },
    {
      "cell_type": "code",
      "metadata": {
        "colab": {
          "base_uri": "https://localhost:8080/"
        },
        "id": "6axU32PR33tO",
        "outputId": "81eab3c0-37d9-4288-ca78-778c46504647"
      },
      "source": [
        "#chosing those that don't operate for 24hrs\n",
        "day_time = time.get_group('no')\n",
        "#finding the sum of the sales column\n",
        "day_time['total'].sum()"
      ],
      "execution_count": null,
      "outputs": [
        {
          "output_type": "execute_result",
          "data": {
            "text/plain": [
              "419362.61"
            ]
          },
          "metadata": {},
          "execution_count": 164
        }
      ]
    },
    {
      "cell_type": "markdown",
      "metadata": {
        "id": "fUsIj_1DLIfD"
      },
      "source": [
        "#####**Stores that only operated during the day only had more sales compared to those that operated for 24hrs**"
      ]
    },
    {
      "cell_type": "markdown",
      "metadata": {
        "id": "r7CuXCKOWi1s"
      },
      "source": [
        "## **FINDINGS AND RECOMMENDATIONS**\n",
        "1. Supermarkets that were outside malls made more sales on weekdays and weekends as well\n",
        "\n",
        "**Recommendation**: Supermarkets in malls should do more to attract more customers\n",
        "\n",
        "2. Customer prefered purchasing items from chain stores as compared to median and smaller stores\n",
        "\n",
        "**Reccommendations**: Chain stores should set up more supermarkets to reach a larger market\n",
        "\n",
        "3. Customers preferred paying for items using cash as compared to other payment methods\n",
        "\n",
        "**Reccommendations**: Supermarkets should have more lose change to give customers to ensure easy transaction process\n",
        "\n",
        "4. Customers from mid income areas purchase more consumable goods as compared to those from high income areas\n",
        "\n",
        "**Reccommendations**: Supermarkets in mid income areas should stock more consumerable goods to satisfy all their consumers' needs\n",
        "\n",
        "5. Customers from mid income areas purchase assets more as compared to high income areas\n",
        "\n",
        "**Reccommendations**: Supermarkets in high income areas should stock more asset goods to satisfy all their consumers' needs\n",
        "\n",
        "6. Customers from Mid income areas purchased more fixed assets as compared to high income areas\n",
        "\n",
        "**Reccommendations**: Supermarkets in high income areas should stock more fixed asset goods to satisfy all their consumers' needs\n",
        "\n",
        "7. Stores that only operated during the day only had more sales compared to those that operated for 24hrs\n",
        "\n",
        "**Reccommendations**: Supermarkets should focus more on keeping the stores open and operational during the day because that is when most customers tend to buy goods."
      ]
    }
  ]
}